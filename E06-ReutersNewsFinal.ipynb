{
 "cells": [
  {
   "cell_type": "markdown",
   "metadata": {
    "colab_type": "text",
    "id": "VQAAgF4nIby3"
   },
   "source": [
    "## **Autores**\n",
    "\n",
    "Saby Espinel - Cod: 201215868\n",
    "\n",
    "Diego Salazar - Cod: 201628925"
   ]
  },
  {
   "cell_type": "markdown",
   "metadata": {
    "colab_type": "text",
    "id": "ozU63FAMjxuR"
   },
   "source": [
    "## Entrenando un clasificador\n",
    "Se empleo un clasificador de noticias para noticias de Reuters."
   ]
  },
  {
   "cell_type": "code",
   "execution_count": 2,
   "metadata": {
    "colab": {
     "autoexec": {
      "startup": false,
      "wait_interval": 0
     },
     "base_uri": "https://localhost:8080/",
     "height": 136
    },
    "colab_type": "code",
    "executionInfo": {
     "elapsed": 10138,
     "status": "ok",
     "timestamp": 1531176611008,
     "user": {
      "displayName": "Diego Armando Salazar Barreto",
      "photoUrl": "https://lh3.googleusercontent.com/a/default-user=s128",
      "userId": "110062887053583561343"
     },
     "user_tz": 300
    },
    "id": "YZxd3Njd6qiF",
    "outputId": "171f2c6d-146e-4237-fe90-df7b5112d26b"
   },
   "outputs": [
    {
     "name": "stderr",
     "output_type": "stream",
     "text": [
      "Using TensorFlow backend.\n"
     ]
    },
    {
     "name": "stdout",
     "output_type": "stream",
     "text": [
      "Loading data...\n",
      "Downloading data from https://s3.amazonaws.com/text-datasets/reuters.npz\n",
      "2113536/2110848 [==============================] - 1s 0us/step\n",
      "8982 train sequences\n",
      "2246 test sequences\n",
      "46 classes\n"
     ]
    }
   ],
   "source": [
    "import numpy as np\n",
    "import keras\n",
    "from keras.datasets import reuters\n",
    "from keras.layers import Dropout\n",
    "from keras.models import Sequential\n",
    "from keras.preprocessing.text import Tokenizer\n",
    "\n",
    "max_words = 1000\n",
    "\n",
    "print('Loading data...')\n",
    "(x_train, y_train), (x_test, y_test) = reuters.load_data(num_words=max_words,\n",
    "                                                         test_split=0.2)\n",
    "print(len(x_train), 'train sequences')\n",
    "print(len(x_test), 'test sequences')\n",
    "\n",
    "num_classes = np.max(y_train) + 1\n",
    "print(num_classes, 'classes')"
   ]
  },
  {
   "cell_type": "code",
   "execution_count": 3,
   "metadata": {
    "colab": {
     "autoexec": {
      "startup": false,
      "wait_interval": 0
     },
     "base_uri": "https://localhost:8080/",
     "height": 88
    },
    "colab_type": "code",
    "executionInfo": {
     "elapsed": 1061,
     "status": "ok",
     "timestamp": 1531176612118,
     "user": {
      "displayName": "Diego Armando Salazar Barreto",
      "photoUrl": "https://lh3.googleusercontent.com/a/default-user=s128",
      "userId": "110062887053583561343"
     },
     "user_tz": 300
    },
    "id": "OVThZABd60dL",
    "outputId": "a74473fb-d841-4bdb-b480-6f45ab46ed52"
   },
   "outputs": [
    {
     "name": "stdout",
     "output_type": "stream",
     "text": [
      "Downloading data from https://s3.amazonaws.com/text-datasets/reuters_word_index.json\n",
      "557056/550378 [==============================] - 0s 1us/step\n",
      "['', 'dlr', 'and', 'cts', '', '80', 'average', 'companies', 'in', 'income', 'of', 'make', '', '', 'said', '', '', 'a', 'of', 'make', '52', '', 'said', '', 'of', '1987', '', '2', 'of', 'sold', 'general', 'states', 'to', '', 'field', 'securities', 'was', 'agricultural', '', '3', 'it', 'a', '1988', 'said', 'as', 'april', '50', 'term', 'to', 'earlier', '3', 'it', 'but', 'was', 'with', '', 'said', '', 'previously', 'be', 'sell', 'cts', 'previously', 'be', '', 'more', 'earlier', 'of', 'which', 'and', 'said', 'commerce', 'of', '1987', 'was', '', 'august', '3', 'it', 'export', 'april', 'report', 'vice', 'to', 'beef', '3', 'it', '', 'and', '000', 'for']\n"
     ]
    }
   ],
   "source": [
    "word_index = reuters.get_word_index(path=\"reuters_word_index.json\")\n",
    "num_words = max(word_index.values()) + 1\n",
    "words = ['']*num_words\n",
    "for word in word_index:\n",
    "    words[word_index[word]] = word\n",
    "print([words[i-2] for i in x_train[101][1:]])"
   ]
  },
  {
   "cell_type": "markdown",
   "metadata": {
    "colab_type": "text",
    "id": "lRUDPgeU2ZLM"
   },
   "source": [
    "Construccion de los sets de entrenamiento y validacion."
   ]
  },
  {
   "cell_type": "code",
   "execution_count": 4,
   "metadata": {
    "colab": {
     "autoexec": {
      "startup": false,
      "wait_interval": 0
     },
     "base_uri": "https://localhost:8080/",
     "height": 51
    },
    "colab_type": "code",
    "executionInfo": {
     "elapsed": 1023,
     "status": "ok",
     "timestamp": 1531176613188,
     "user": {
      "displayName": "Diego Armando Salazar Barreto",
      "photoUrl": "https://lh3.googleusercontent.com/a/default-user=s128",
      "userId": "110062887053583561343"
     },
     "user_tz": 300
    },
    "id": "G0aPrtkg6_mN",
    "outputId": "aa2a079d-8593-4879-d1dc-64c8415165ae"
   },
   "outputs": [
    {
     "name": "stdout",
     "output_type": "stream",
     "text": [
      "x_train shape: (8982, 1000)\n",
      "x_test shape: (2246, 1000)\n"
     ]
    }
   ],
   "source": [
    "tokenizer = Tokenizer(num_words=max_words)\n",
    "x_train = tokenizer.sequences_to_matrix(x_train, mode='binary')\n",
    "x_test = tokenizer.sequences_to_matrix(x_test, mode='binary')\n",
    "print('x_train shape:', x_train.shape)\n",
    "print('x_test shape:', x_test.shape)"
   ]
  },
  {
   "cell_type": "code",
   "execution_count": 5,
   "metadata": {
    "colab": {
     "autoexec": {
      "startup": false,
      "wait_interval": 0
     },
     "base_uri": "https://localhost:8080/",
     "height": 51
    },
    "colab_type": "code",
    "executionInfo": {
     "elapsed": 318,
     "status": "ok",
     "timestamp": 1531176613546,
     "user": {
      "displayName": "Diego Armando Salazar Barreto",
      "photoUrl": "https://lh3.googleusercontent.com/a/default-user=s128",
      "userId": "110062887053583561343"
     },
     "user_tz": 300
    },
    "id": "6xUYvdWQ7DOs",
    "outputId": "9c7abc1a-dbe6-4adb-d480-b2063ed01135"
   },
   "outputs": [
    {
     "name": "stdout",
     "output_type": "stream",
     "text": [
      "y_train shape: (8982, 46)\n",
      "y_test shape: (2246, 46)\n"
     ]
    }
   ],
   "source": [
    "y_train = keras.utils.to_categorical(y_train, num_classes)\n",
    "y_test = keras.utils.to_categorical(y_test, num_classes)\n",
    "print('y_train shape:', y_train.shape)\n",
    "print('y_test shape:', y_test.shape)"
   ]
  },
  {
   "cell_type": "markdown",
   "metadata": {
    "colab_type": "text",
    "id": "PhU4dlke2TCP"
   },
   "source": [
    "________________________________________________________________________________________________________________________"
   ]
  },
  {
   "cell_type": "markdown",
   "metadata": {
    "colab_type": "text",
    "id": "JlEC5KqdkNbb"
   },
   "source": [
    "## Modelo neuronal de capas densas\n",
    "Se genero un modelo que tuviera los siguientes parametros: <br>\n",
    "> -La primera capa oculta tiene **256** neuronas. <br>\n",
    "> -Como parametros por defecto: activation=''**relu**'', optimizer=\"**SGD**\", drop=**1**, kernel='**random_uniform**', neurons=**10** <br>\n",
    "> -Si la entrada **moreHiddenLayers==False**, entonces se adicionaran  tres capas mas. Estas capas tambien tendran los paramtros de inicializacion establecidos anteriormente."
   ]
  },
  {
   "cell_type": "markdown",
   "metadata": {
    "colab_type": "text",
    "id": "bcuHQeFbLX5g"
   },
   "source": [
    "Se empleo la funcion de **KerasClassifier** el cual funciona como un wrapper entre \"*Sklearn*\" y \"*keras*\". Debido a esto se logro hacer una busqueda por grilla aleatoria (*randomSearchCV*) y fija (*gridSearchCV*). "
   ]
  },
  {
   "cell_type": "code",
   "execution_count": 6,
   "metadata": {
    "colab": {
     "autoexec": {
      "startup": false,
      "wait_interval": 0
     },
     "base_uri": "https://localhost:8080/",
     "height": 306
    },
    "colab_type": "code",
    "executionInfo": {
     "elapsed": 324,
     "status": "ok",
     "timestamp": 1531176614009,
     "user": {
      "displayName": "Diego Armando Salazar Barreto",
      "photoUrl": "https://lh3.googleusercontent.com/a/default-user=s128",
      "userId": "110062887053583561343"
     },
     "user_tz": 300
    },
    "id": "4gu-9feB7D6F",
    "outputId": "b77ec24d-1b1d-4d17-9d30-93830f4952b2"
   },
   "outputs": [
    {
     "name": "stdout",
     "output_type": "stream",
     "text": [
      "______________________________________________________________________\n",
      "Layer (type)                   Output Shape                Param #    \n",
      "======================================================================\n",
      "dense_1 (Dense)                (None, 256)                 256256     \n",
      "______________________________________________________________________\n",
      "dropout_1 (Dropout)            (None, 256)                 0          \n",
      "______________________________________________________________________\n",
      "activation_1 (Activation)      (None, 256)                 0          \n",
      "______________________________________________________________________\n",
      "dense_2 (Dense)                (None, 46)                  11822      \n",
      "______________________________________________________________________\n",
      "activation_2 (Activation)      (None, 46)                  0          \n",
      "======================================================================\n",
      "Total params: 268,078\n",
      "Trainable params: 268,078\n",
      "Non-trainable params: 0\n",
      "______________________________________________________________________\n"
     ]
    }
   ],
   "source": [
    "from keras.layers import Dense, Activation, Dropout\n",
    "\n",
    "# Definicion del modelo\n",
    "def modelKeras(activation=\"relu\", optimizer=\"SGD\", drop=1, kernel='random_uniform', neurons=10, moreHiddenLayers=True):\n",
    "    #definicion de la primera capa con 256 neuronas\n",
    "    model = Sequential()\n",
    "    model.add(Dense(256, input_shape=(max_words,), kernel_initializer=kernel,\n",
    "                bias_initializer=kernel))\n",
    "    model.add(Dropout(drop))\n",
    "    model.add(Activation(activation))\n",
    "    # Se definen mas capas si cumple condicion \n",
    "    if moreHiddenLayers == False:\n",
    "      model.add(Dense(neurons, input_shape=(max_words,), kernel_initializer=kernel,\n",
    "                  bias_initializer=kernel))\n",
    "      model.add(Dropout(drop))\n",
    "      model.add(Activation(activation))\n",
    "      model.add(Dense(neurons, input_shape=(max_words,), kernel_initializer=kernel,\n",
    "                  bias_initializer=kernel))\n",
    "      model.add(Dropout(drop))\n",
    "      model.add(Activation(activation))\n",
    "      model.add(Dense(neurons, input_shape=(max_words,), kernel_initializer=kernel,\n",
    "                  bias_initializer=kernel))\n",
    "      model.add(Dropout(drop))\n",
    "      model.add(Activation(activation))\n",
    "    # Modelo con una sola capa oculta\n",
    "    model.add(Dense(num_classes))\n",
    "    model.add(Activation(\"softmax\"))\n",
    "    # Compilacion del modelo se emplea categorical_crossentropy porque tiene varias clases\n",
    "    model.compile(loss='categorical_crossentropy',\n",
    "              optimizer=optimizer,\n",
    "              metrics=['accuracy'])\n",
    "    return model\n",
    "\n",
    "# Una vez definido el modelo se verifica mediante la funcion \"summmary()\"\n",
    "modelKeras(moreHiddenLayers=True).summary(70)"
   ]
  },
  {
   "cell_type": "markdown",
   "metadata": {
    "colab_type": "text",
    "id": "RiiAt3wW7Lap"
   },
   "source": [
    "## Randomized SearchCV"
   ]
  },
  {
   "cell_type": "markdown",
   "metadata": {
    "colab_type": "text",
    "id": "vL04Vu8im-F_"
   },
   "source": [
    "  El wrapper entre __[keras y sklearn](https://keras.io/scikit-learn-api/)__ nos permitio evaluar muchos parametros en nuestra red. "
   ]
  },
  {
   "cell_type": "code",
   "execution_count": 7,
   "metadata": {
    "colab": {
     "autoexec": {
      "startup": false,
      "wait_interval": 0
     },
     "base_uri": "https://localhost:8080/",
     "height": 37
    },
    "colab_type": "code",
    "executionInfo": {
     "elapsed": 399,
     "status": "ok",
     "timestamp": 1531176614538,
     "user": {
      "displayName": "Diego Armando Salazar Barreto",
      "photoUrl": "https://lh3.googleusercontent.com/a/default-user=s128",
      "userId": "110062887053583561343"
     },
     "user_tz": 300
    },
    "id": "EvQXFEfZ7IOa",
    "outputId": "a8b5ef5d-249e-4630-d5f1-80bf42fac491"
   },
   "outputs": [],
   "source": [
    "# Modulos\n",
    "from sklearn.model_selection import GridSearchCV\n",
    "from sklearn.model_selection import RandomizedSearchCV\n",
    "from keras.wrappers.scikit_learn import KerasClassifier"
   ]
  },
  {
   "cell_type": "code",
   "execution_count": 8,
   "metadata": {
    "colab": {
     "autoexec": {
      "startup": false,
      "wait_interval": 0
     },
     "base_uri": "https://localhost:8080/",
     "height": 37
    },
    "colab_type": "code",
    "executionInfo": {
     "elapsed": 328,
     "status": "ok",
     "timestamp": 1531176614984,
     "user": {
      "displayName": "Diego Armando Salazar Barreto",
      "photoUrl": "https://lh3.googleusercontent.com/a/default-user=s128",
      "userId": "110062887053583561343"
     },
     "user_tz": 300
    },
    "id": "FQaonQ-q7NnZ",
    "outputId": "7979cca6-7ee3-47ca-b6b7-6beb7be21754"
   },
   "outputs": [],
   "source": [
    "# Definicion del modelo KerasClassifier\n",
    "model = KerasClassifier(build_fn=modelKeras, verbose=0)\n",
    "\n",
    "# Lista de parametros a evaluar\n",
    "parametros = {\n",
    "    \"activation\": [\"softmax\", \"elu\", \"selu\", \"softplus\", \"softsign\", \"relu\" ,\"tanh\", \"sigmoid\", \"hard_sigmoid\", \"linear\"],\n",
    "    \"optimizer\": [\"SGD\", \"RMSprop\", \"Adagrad\", \"Adadelta\", \"Adam\", \"Adamax\", \"Nadam\"], \n",
    "    \"drop\": [0.2,0.4,0.6,0.8,1],\n",
    "    \"kernel\": [\"random_normal\", \"he_uniform\", \"lecun_normal\", \"he_normal\", \"glorot_uniform\", \"glorot_normal\", \"lecun_uniform\", \"zeros\", \"ones\"], \n",
    "    \"neurons\": [5,10,50,100]\n",
    "    #\"moreHiddenLayers\": [True, False]\n",
    "}\n",
    "\n",
    "# Busqueda aleatoria entre los parametros\n",
    "random_search = RandomizedSearchCV(estimator=model, param_distributions=parametros)"
   ]
  },
  {
   "cell_type": "code",
   "execution_count": 9,
   "metadata": {
    "colab": {
     "autoexec": {
      "startup": false,
      "wait_interval": 0
     },
     "base_uri": "https://localhost:8080/",
     "height": 37
    },
    "colab_type": "code",
    "executionInfo": {
     "elapsed": 256,
     "status": "ok",
     "timestamp": 1531176615366,
     "user": {
      "displayName": "Diego Armando Salazar Barreto",
      "photoUrl": "https://lh3.googleusercontent.com/a/default-user=s128",
      "userId": "110062887053583561343"
     },
     "user_tz": 300
    },
    "id": "EhhCSCfA7PJ4",
    "outputId": "f33ed5f5-37ab-41c6-dea8-a18cdba4d302"
   },
   "outputs": [],
   "source": [
    "# Este proceso lleva tiempo por lo que se corre en una linea aparte\n",
    "# Realiza modelos de manera aleatoria, esto nos permite ver un espectro de cuales paramatros\n",
    "# y en que rangos se deben fijar los valores.\n",
    "random_result=random_search.fit(x_train, y_train)"
   ]
  },
  {
   "cell_type": "code",
   "execution_count": null,
   "metadata": {
    "colab": {
     "autoexec": {
      "startup": false,
      "wait_interval": 0
     },
     "base_uri": "https://localhost:8080/",
     "height": 139
    },
    "colab_type": "code",
    "executionInfo": {
     "elapsed": 433,
     "status": "ok",
     "timestamp": 1530905733239,
     "user": {
      "displayName": "Diego Armando Salazar Barreto",
      "photoUrl": "https://lh3.googleusercontent.com/a/default-user=s128",
      "userId": "110062887053583561343"
     },
     "user_tz": 300
    },
    "id": "HvIiZzB46GH-",
    "outputId": "0b4759e0-5108-4ad9-af1c-27d09d161776"
   },
   "outputs": [
    {
     "data": {
      "text/plain": [
       "RandomizedSearchCV(cv=None, error_score='raise',\n",
       "          estimator=<keras.wrappers.scikit_learn.KerasClassifier object at 0x7f0859a8c8d0>,\n",
       "          fit_params=None, iid=True, n_iter=10, n_jobs=1,\n",
       "          param_distributions={'activation': ['softmax', 'elu', 'selu', 'softplus', 'softsign', 'relu', 'tanh', 'sigmoid', 'hard_sigmoid', 'linear'], 'optimizer': ['SGD', 'RMSprop', 'Adagrad', 'Adadelta', 'Adam', 'Adamax', 'Nadam'], 'drop': [0.2, 0.4, 0.6, 0.8, 1], 'kernel': ['random_normal', 'he_uniform', 'lecun_normal', 'he_normal', 'glorot_uniform', 'glorot_normal', 'lecun_uniform', 'zeros', 'ones']},\n",
       "          pre_dispatch='2*n_jobs', random_state=None, refit=True,\n",
       "          return_train_score='warn', scoring=None, verbose=0)"
      ]
     },
     "execution_count": 66,
     "metadata": {
      "tags": []
     },
     "output_type": "execute_result"
    }
   ],
   "source": [
    "# La grilla quedo definida con los parametros establecidos anteriormente.\n",
    "# Si se trabaja en CPU es mejor emplear n_jobs=-1.\n",
    "random_result"
   ]
  },
  {
   "cell_type": "markdown",
   "metadata": {
    "colab_type": "text",
    "id": "BVikuDByJhrK"
   },
   "source": [
    "Luego de probar las combinaciones usando *RandomizedSearchCV*, tenemos que la configuración de parámetros que nos arroja un mejor desempeño es la siguiente:"
   ]
  },
  {
   "cell_type": "code",
   "execution_count": null,
   "metadata": {
    "colab": {
     "autoexec": {
      "startup": false,
      "wait_interval": 0
     },
     "base_uri": "https://localhost:8080/",
     "height": 34
    },
    "colab_type": "code",
    "executionInfo": {
     "elapsed": 411,
     "status": "ok",
     "timestamp": 1530907476378,
     "user": {
      "displayName": "Diego Armando Salazar Barreto",
      "photoUrl": "https://lh3.googleusercontent.com/a/default-user=s128",
      "userId": "110062887053583561343"
     },
     "user_tz": 300
    },
    "id": "qbHlpF8Q6TC7",
    "outputId": "2dd205de-a8a5-431e-9ed1-ca944c4691c7"
   },
   "outputs": [
    {
     "name": "stdout",
     "output_type": "stream",
     "text": [
      "Mejor: 0.761189 using {'optimizer': 'Adagrad', 'kernel': 'glorot_normal', 'drop': 0.2, 'activation': 'elu'}\n"
     ]
    }
   ],
   "source": [
    "print(\"Mejor: %f using %s\" % (random_result.best_score_, random_result.best_params_))"
   ]
  },
  {
   "cell_type": "code",
   "execution_count": null,
   "metadata": {
    "colab": {
     "autoexec": {
      "startup": false,
      "wait_interval": 0
     },
     "base_uri": "https://localhost:8080/",
     "height": 191
    },
    "colab_type": "code",
    "executionInfo": {
     "elapsed": 782,
     "status": "ok",
     "timestamp": 1530905697333,
     "user": {
      "displayName": "Saby Espinel",
      "photoUrl": "//lh5.googleusercontent.com/-rmPzhb33xSI/AAAAAAAAAAI/AAAAAAAAAFM/yMVi9A4Job8/s50-c-k-no/photo.jpg",
      "userId": "104445608280165984506"
     },
     "user_tz": 300
    },
    "id": "ZIG3SnS762pQ",
    "outputId": "8ebafc2b-0b5a-4918-cdfb-39fbdfcc86e9"
   },
   "outputs": [
    {
     "name": "stdout",
     "output_type": "stream",
     "text": [
      "0.620129 (0.020941) with: {'optimizer': 'Nadam', 'neurons': 50, 'kernel': 'lecun_uniform', 'drop': 1, 'activation': 'softplus'}\n",
      "0.592073 (0.029995) with: {'optimizer': 'SGD', 'neurons': 100, 'kernel': 'lecun_normal', 'drop': 0.2, 'activation': 'selu'}\n",
      "0.001559 (0.000157) with: {'optimizer': 'RMSprop', 'neurons': 50, 'kernel': 'ones', 'drop': 0.2, 'activation': 'relu'}\n",
      "0.351703 (0.004464) with: {'optimizer': 'Adamax', 'neurons': 5, 'kernel': 'he_uniform', 'drop': 0.8, 'activation': 'sigmoid'}\n",
      "0.702850 (0.010855) with: {'optimizer': 'Nadam', 'neurons': 10, 'kernel': 'he_uniform', 'drop': 1, 'activation': 'softsign'}\n",
      "0.618125 (0.004949) with: {'optimizer': 'Adam', 'neurons': 5, 'kernel': 'lecun_uniform', 'drop': 0.2, 'activation': 'tanh'}\n",
      "0.352260 (0.003917) with: {'optimizer': 'Adadelta', 'neurons': 5, 'kernel': 'lecun_normal', 'drop': 0.8, 'activation': 'linear'}\n",
      "0.351703 (0.004464) with: {'optimizer': 'Adagrad', 'neurons': 10, 'kernel': 'zeros', 'drop': 0.4, 'activation': 'softmax'}\n",
      "0.351703 (0.004464) with: {'optimizer': 'Nadam', 'neurons': 100, 'kernel': 'glorot_uniform', 'drop': 0.8, 'activation': 'softmax'}\n",
      "0.351703 (0.004464) with: {'optimizer': 'Adamax', 'neurons': 5, 'kernel': 'he_uniform', 'drop': 0.6, 'activation': 'softmax'}\n"
     ]
    }
   ],
   "source": [
    "means = random_result.cv_results_['mean_test_score']\n",
    "stds = random_result.cv_results_['std_test_score']\n",
    "params = random_result.cv_results_['params']\n",
    "for mean, stdev, param in zip(means, stds, params):\n",
    "    print(\"%f (%f) with: %r\" % (mean, stdev, param))"
   ]
  },
  {
   "cell_type": "markdown",
   "metadata": {
    "colab_type": "text",
    "id": "fj-k78ag6c6_"
   },
   "source": [
    "**Conclusion**: Segun los resultados el mejor set de parametros fueron: 'optimizer': '*Adagrad*', 'kernel': *'glorot_normal*', 'drop': *0.2*, 'activation': '*elu*'. Con un accuracy de **0.76**.\n",
    "\n",
    "El optimizador **Adagrad**, permite adaptadar los pesos dependiendo de que tan frecuente estos son actualizados. <br>\n",
    "El inicializador **glorot_normal**, es un inicializador de parametros definido en una Normal truncada entre el numero de pesos de la capa input y la capa output. <br>\n",
    "El metodo de activacion **elu**, tiene una forma similar a relu, sin embargo esta la zona de cero esta ligeramente por debajo.<br>\n",
    "\n",
    "Gracias a esto, podemos emplear la funcion *GridSearchCV* para guiarnos con los parametros a evaluar sin sobrecargar el algoritmo."
   ]
  },
  {
   "cell_type": "markdown",
   "metadata": {
    "colab_type": "text",
    "id": "-Ic7ZuKR7sWY"
   },
   "source": [
    "## Grid SearchCV\n",
    "\n"
   ]
  },
  {
   "cell_type": "markdown",
   "metadata": {
    "colab_type": "text",
    "id": "hyNWnzisnrz-"
   },
   "source": [
    "Esta busqueda nos permitio realizar todas las combinaciones de los parametros establecidos. Sin embargo, teniendo los resultados anteriores solo se escogieron tres por parametro, ya que requiere mucho procesamiento."
   ]
  },
  {
   "cell_type": "code",
   "execution_count": null,
   "metadata": {
    "colab": {
     "autoexec": {
      "startup": false,
      "wait_interval": 0
     }
    },
    "colab_type": "code",
    "id": "NF3VQFVw7_0J"
   },
   "outputs": [],
   "source": [
    "# Parametros definidos para GridSearchCV\n",
    "parametros = {\n",
    "    \"activation\": [\"softmax\", \"elu\", \"selu\"],\n",
    "    \"optimizer\": [\"SGD\", \"RMSprop\", \"Adagrad\"], \n",
    "    \"drop\": [0.2,0.4,0.6],\n",
    "    \"kernel\": [\"random_normal\", \"he_uniform\", \"lecun_normal\"]\n",
    "    #\"neurons\": [5,10,50,100]\n",
    "}\n",
    "\n",
    "# Busqueda de todas las combinaciones posibles entre los parametros\n",
    "grid = GridSearchCV(estimator=model, param_grid=parametros)"
   ]
  },
  {
   "cell_type": "code",
   "execution_count": null,
   "metadata": {
    "colab": {
     "autoexec": {
      "startup": false,
      "wait_interval": 0
     }
    },
    "colab_type": "code",
    "id": "J-dzxjMH7VMf"
   },
   "outputs": [],
   "source": [
    "# De manera similar a RandomSearchCV se ejecuta este comando\n",
    "# porque resulta en un calculo computacional largo.\n",
    "grid_result = grid.fit(x_train, y_train)"
   ]
  },
  {
   "cell_type": "code",
   "execution_count": null,
   "metadata": {
    "colab": {
     "autoexec": {
      "startup": false,
      "wait_interval": 0
     },
     "base_uri": "https://localhost:8080/",
     "height": 139
    },
    "colab_type": "code",
    "executionInfo": {
     "elapsed": 372,
     "status": "ok",
     "timestamp": 1531090599531,
     "user": {
      "displayName": "Saby Espinel",
      "photoUrl": "//lh5.googleusercontent.com/-rmPzhb33xSI/AAAAAAAAAAI/AAAAAAAAAFM/yMVi9A4Job8/s50-c-k-no/photo.jpg",
      "userId": "104445608280165984506"
     },
     "user_tz": 300
    },
    "id": "b7LeULoV7XkE",
    "outputId": "5cebe779-a334-431c-935d-2ba66d40ceaa"
   },
   "outputs": [
    {
     "data": {
      "text/plain": [
       "GridSearchCV(cv=None, error_score='raise',\n",
       "       estimator=<keras.wrappers.scikit_learn.KerasClassifier object at 0x7f5642e9eef0>,\n",
       "       fit_params=None, iid=True, n_jobs=1,\n",
       "       param_grid={'activation': ['softmax', 'elu', 'selu'], 'optimizer': ['SGD', 'RMSprop', 'Adagrad'], 'drop': [0.2, 0.4, 0.6], 'kernel': ['random_normal', 'he_uniform', 'lecun_normal']},\n",
       "       pre_dispatch='2*n_jobs', refit=True, return_train_score='warn',\n",
       "       scoring=None, verbose=0)"
      ]
     },
     "execution_count": 11,
     "metadata": {
      "tags": []
     },
     "output_type": "execute_result"
    }
   ],
   "source": [
    "# Como en el caso anterior, podemos ver los paramtros evaluados\n",
    "grid_result"
   ]
  },
  {
   "cell_type": "code",
   "execution_count": null,
   "metadata": {
    "colab": {
     "autoexec": {
      "startup": false,
      "wait_interval": 0
     },
     "base_uri": "https://localhost:8080/",
     "height": 1394
    },
    "colab_type": "code",
    "executionInfo": {
     "elapsed": 345,
     "status": "ok",
     "timestamp": 1531090602900,
     "user": {
      "displayName": "Saby Espinel",
      "photoUrl": "//lh5.googleusercontent.com/-rmPzhb33xSI/AAAAAAAAAAI/AAAAAAAAAFM/yMVi9A4Job8/s50-c-k-no/photo.jpg",
      "userId": "104445608280165984506"
     },
     "user_tz": 300
    },
    "id": "0xL_dXuOFtsD",
    "outputId": "8f69e3ce-ccb5-4f39-cccd-76986b141041"
   },
   "outputs": [
    {
     "name": "stdout",
     "output_type": "stream",
     "text": [
      "0.351703 (0.004464) with: {'activation': 'softmax', 'drop': 0.2, 'kernel': 'random_normal', 'optimizer': 'SGD'}\n",
      "0.351703 (0.004464) with: {'activation': 'softmax', 'drop': 0.2, 'kernel': 'random_normal', 'optimizer': 'RMSprop'}\n",
      "0.351703 (0.004464) with: {'activation': 'softmax', 'drop': 0.2, 'kernel': 'random_normal', 'optimizer': 'Adagrad'}\n",
      "0.351703 (0.004464) with: {'activation': 'softmax', 'drop': 0.2, 'kernel': 'he_uniform', 'optimizer': 'SGD'}\n",
      "0.351703 (0.004464) with: {'activation': 'softmax', 'drop': 0.2, 'kernel': 'he_uniform', 'optimizer': 'RMSprop'}\n",
      "0.351703 (0.004464) with: {'activation': 'softmax', 'drop': 0.2, 'kernel': 'he_uniform', 'optimizer': 'Adagrad'}\n",
      "0.351703 (0.004464) with: {'activation': 'softmax', 'drop': 0.2, 'kernel': 'lecun_normal', 'optimizer': 'SGD'}\n",
      "0.351703 (0.004464) with: {'activation': 'softmax', 'drop': 0.2, 'kernel': 'lecun_normal', 'optimizer': 'RMSprop'}\n",
      "0.303941 (0.063309) with: {'activation': 'softmax', 'drop': 0.2, 'kernel': 'lecun_normal', 'optimizer': 'Adagrad'}\n",
      "0.351703 (0.004464) with: {'activation': 'softmax', 'drop': 0.4, 'kernel': 'random_normal', 'optimizer': 'SGD'}\n",
      "0.351703 (0.004464) with: {'activation': 'softmax', 'drop': 0.4, 'kernel': 'random_normal', 'optimizer': 'RMSprop'}\n",
      "0.351703 (0.004464) with: {'activation': 'softmax', 'drop': 0.4, 'kernel': 'random_normal', 'optimizer': 'Adagrad'}\n",
      "0.351703 (0.004464) with: {'activation': 'softmax', 'drop': 0.4, 'kernel': 'he_uniform', 'optimizer': 'SGD'}\n",
      "0.351703 (0.004464) with: {'activation': 'softmax', 'drop': 0.4, 'kernel': 'he_uniform', 'optimizer': 'RMSprop'}\n",
      "0.351703 (0.004464) with: {'activation': 'softmax', 'drop': 0.4, 'kernel': 'he_uniform', 'optimizer': 'Adagrad'}\n",
      "0.351703 (0.004464) with: {'activation': 'softmax', 'drop': 0.4, 'kernel': 'lecun_normal', 'optimizer': 'SGD'}\n",
      "0.351703 (0.004464) with: {'activation': 'softmax', 'drop': 0.4, 'kernel': 'lecun_normal', 'optimizer': 'RMSprop'}\n",
      "0.351703 (0.004464) with: {'activation': 'softmax', 'drop': 0.4, 'kernel': 'lecun_normal', 'optimizer': 'Adagrad'}\n",
      "0.351703 (0.004464) with: {'activation': 'softmax', 'drop': 0.6, 'kernel': 'random_normal', 'optimizer': 'SGD'}\n",
      "0.351703 (0.004464) with: {'activation': 'softmax', 'drop': 0.6, 'kernel': 'random_normal', 'optimizer': 'RMSprop'}\n",
      "0.351703 (0.004464) with: {'activation': 'softmax', 'drop': 0.6, 'kernel': 'random_normal', 'optimizer': 'Adagrad'}\n",
      "0.351703 (0.004464) with: {'activation': 'softmax', 'drop': 0.6, 'kernel': 'he_uniform', 'optimizer': 'SGD'}\n",
      "0.351703 (0.004464) with: {'activation': 'softmax', 'drop': 0.6, 'kernel': 'he_uniform', 'optimizer': 'RMSprop'}\n",
      "0.351703 (0.004464) with: {'activation': 'softmax', 'drop': 0.6, 'kernel': 'he_uniform', 'optimizer': 'Adagrad'}\n",
      "0.351703 (0.004464) with: {'activation': 'softmax', 'drop': 0.6, 'kernel': 'lecun_normal', 'optimizer': 'SGD'}\n",
      "0.351703 (0.004464) with: {'activation': 'softmax', 'drop': 0.6, 'kernel': 'lecun_normal', 'optimizer': 'RMSprop'}\n",
      "0.351703 (0.004464) with: {'activation': 'softmax', 'drop': 0.6, 'kernel': 'lecun_normal', 'optimizer': 'Adagrad'}\n",
      "0.351703 (0.004464) with: {'activation': 'elu', 'drop': 0.2, 'kernel': 'random_normal', 'optimizer': 'SGD'}\n",
      "0.605878 (0.012701) with: {'activation': 'elu', 'drop': 0.2, 'kernel': 'random_normal', 'optimizer': 'RMSprop'}\n",
      "0.601425 (0.008416) with: {'activation': 'elu', 'drop': 0.2, 'kernel': 'random_normal', 'optimizer': 'Adagrad'}\n",
      "0.547985 (0.026748) with: {'activation': 'elu', 'drop': 0.2, 'kernel': 'he_uniform', 'optimizer': 'SGD'}\n",
      "0.663772 (0.017197) with: {'activation': 'elu', 'drop': 0.2, 'kernel': 'he_uniform', 'optimizer': 'RMSprop'}\n",
      "0.665887 (0.012373) with: {'activation': 'elu', 'drop': 0.2, 'kernel': 'he_uniform', 'optimizer': 'Adagrad'}\n",
      "0.465487 (0.032499) with: {'activation': 'elu', 'drop': 0.2, 'kernel': 'lecun_normal', 'optimizer': 'SGD'}\n",
      "0.683701 (0.006413) with: {'activation': 'elu', 'drop': 0.2, 'kernel': 'lecun_normal', 'optimizer': 'RMSprop'}\n",
      "0.686707 (0.007733) with: {'activation': 'elu', 'drop': 0.2, 'kernel': 'lecun_normal', 'optimizer': 'Adagrad'}\n",
      "0.351703 (0.004464) with: {'activation': 'elu', 'drop': 0.4, 'kernel': 'random_normal', 'optimizer': 'SGD'}\n",
      "0.553218 (0.009417) with: {'activation': 'elu', 'drop': 0.4, 'kernel': 'random_normal', 'optimizer': 'RMSprop'}\n",
      "0.593854 (0.012753) with: {'activation': 'elu', 'drop': 0.4, 'kernel': 'random_normal', 'optimizer': 'Adagrad'}\n",
      "0.441327 (0.027817) with: {'activation': 'elu', 'drop': 0.4, 'kernel': 'he_uniform', 'optimizer': 'SGD'}\n",
      "0.597862 (0.014194) with: {'activation': 'elu', 'drop': 0.4, 'kernel': 'he_uniform', 'optimizer': 'RMSprop'}\n",
      "0.590514 (0.007923) with: {'activation': 'elu', 'drop': 0.4, 'kernel': 'he_uniform', 'optimizer': 'Adagrad'}\n",
      "0.461701 (0.012678) with: {'activation': 'elu', 'drop': 0.4, 'kernel': 'lecun_normal', 'optimizer': 'SGD'}\n",
      "0.621576 (0.018574) with: {'activation': 'elu', 'drop': 0.4, 'kernel': 'lecun_normal', 'optimizer': 'RMSprop'}\n",
      "0.625251 (0.019113) with: {'activation': 'elu', 'drop': 0.4, 'kernel': 'lecun_normal', 'optimizer': 'Adagrad'}\n",
      "0.351703 (0.004464) with: {'activation': 'elu', 'drop': 0.6, 'kernel': 'random_normal', 'optimizer': 'SGD'}\n",
      "0.456246 (0.031652) with: {'activation': 'elu', 'drop': 0.6, 'kernel': 'random_normal', 'optimizer': 'RMSprop'}\n",
      "0.503117 (0.026058) with: {'activation': 'elu', 'drop': 0.6, 'kernel': 'random_normal', 'optimizer': 'Adagrad'}\n",
      "0.357938 (0.006008) with: {'activation': 'elu', 'drop': 0.6, 'kernel': 'he_uniform', 'optimizer': 'SGD'}\n",
      "0.487085 (0.003821) with: {'activation': 'elu', 'drop': 0.6, 'kernel': 'he_uniform', 'optimizer': 'RMSprop'}\n",
      "0.351703 (0.004464) with: {'activation': 'elu', 'drop': 0.6, 'kernel': 'he_uniform', 'optimizer': 'Adagrad'}\n",
      "0.399911 (0.064939) with: {'activation': 'elu', 'drop': 0.6, 'kernel': 'lecun_normal', 'optimizer': 'SGD'}\n",
      "0.541193 (0.006280) with: {'activation': 'elu', 'drop': 0.6, 'kernel': 'lecun_normal', 'optimizer': 'RMSprop'}\n",
      "0.539746 (0.030008) with: {'activation': 'elu', 'drop': 0.6, 'kernel': 'lecun_normal', 'optimizer': 'Adagrad'}\n",
      "0.351703 (0.004464) with: {'activation': 'selu', 'drop': 0.2, 'kernel': 'random_normal', 'optimizer': 'SGD'}\n",
      "0.622022 (0.000686) with: {'activation': 'selu', 'drop': 0.2, 'kernel': 'random_normal', 'optimizer': 'RMSprop'}\n",
      "0.636941 (0.015058) with: {'activation': 'selu', 'drop': 0.2, 'kernel': 'random_normal', 'optimizer': 'Adagrad'}\n",
      "0.510577 (0.003276) with: {'activation': 'selu', 'drop': 0.2, 'kernel': 'he_uniform', 'optimizer': 'SGD'}\n",
      "0.645625 (0.015668) with: {'activation': 'selu', 'drop': 0.2, 'kernel': 'he_uniform', 'optimizer': 'RMSprop'}\n",
      "0.644845 (0.016079) with: {'activation': 'selu', 'drop': 0.2, 'kernel': 'he_uniform', 'optimizer': 'Adagrad'}\n",
      "0.579270 (0.003821) with: {'activation': 'selu', 'drop': 0.2, 'kernel': 'lecun_normal', 'optimizer': 'SGD'}\n",
      "0.703852 (0.005068) with: {'activation': 'selu', 'drop': 0.2, 'kernel': 'lecun_normal', 'optimizer': 'RMSprop'}\n",
      "0.704743 (0.006165) with: {'activation': 'selu', 'drop': 0.2, 'kernel': 'lecun_normal', 'optimizer': 'Adagrad'}\n",
      "0.351703 (0.004464) with: {'activation': 'selu', 'drop': 0.4, 'kernel': 'random_normal', 'optimizer': 'SGD'}\n",
      "0.597751 (0.014203) with: {'activation': 'selu', 'drop': 0.4, 'kernel': 'random_normal', 'optimizer': 'RMSprop'}\n",
      "0.613115 (0.027505) with: {'activation': 'selu', 'drop': 0.4, 'kernel': 'random_normal', 'optimizer': 'Adagrad'}\n",
      "0.489757 (0.014960) with: {'activation': 'selu', 'drop': 0.4, 'kernel': 'he_uniform', 'optimizer': 'SGD'}\n",
      "0.546092 (0.028002) with: {'activation': 'selu', 'drop': 0.4, 'kernel': 'he_uniform', 'optimizer': 'RMSprop'}\n",
      "0.557226 (0.026726) with: {'activation': 'selu', 'drop': 0.4, 'kernel': 'he_uniform', 'optimizer': 'Adagrad'}\n",
      "0.525718 (0.030158) with: {'activation': 'selu', 'drop': 0.4, 'kernel': 'lecun_normal', 'optimizer': 'SGD'}\n",
      "0.636161 (0.009021) with: {'activation': 'selu', 'drop': 0.4, 'kernel': 'lecun_normal', 'optimizer': 'RMSprop'}\n",
      "0.601648 (0.020115) with: {'activation': 'selu', 'drop': 0.4, 'kernel': 'lecun_normal', 'optimizer': 'Adagrad'}\n",
      "0.351703 (0.004464) with: {'activation': 'selu', 'drop': 0.6, 'kernel': 'random_normal', 'optimizer': 'SGD'}\n",
      "0.530839 (0.046213) with: {'activation': 'selu', 'drop': 0.6, 'kernel': 'random_normal', 'optimizer': 'RMSprop'}\n",
      "0.578824 (0.002454) with: {'activation': 'selu', 'drop': 0.6, 'kernel': 'random_normal', 'optimizer': 'Adagrad'}\n",
      "0.310621 (0.066365) with: {'activation': 'selu', 'drop': 0.6, 'kernel': 'he_uniform', 'optimizer': 'SGD'}\n",
      "0.381096 (0.058381) with: {'activation': 'selu', 'drop': 0.6, 'kernel': 'he_uniform', 'optimizer': 'RMSprop'}\n",
      "0.466600 (0.002768) with: {'activation': 'selu', 'drop': 0.6, 'kernel': 'he_uniform', 'optimizer': 'Adagrad'}\n",
      "0.438544 (0.057719) with: {'activation': 'selu', 'drop': 0.6, 'kernel': 'lecun_normal', 'optimizer': 'SGD'}\n",
      "0.514807 (0.015538) with: {'activation': 'selu', 'drop': 0.6, 'kernel': 'lecun_normal', 'optimizer': 'RMSprop'}\n",
      "0.511022 (0.043764) with: {'activation': 'selu', 'drop': 0.6, 'kernel': 'lecun_normal', 'optimizer': 'Adagrad'}\n"
     ]
    }
   ],
   "source": [
    "# Estos resultados se consolidan a continuacion.\n",
    "# El primer valor corresponde a la media del accuracy y el segundo a su desviacion estandar\n",
    "means = grid_result.cv_results_['mean_test_score']\n",
    "stds = grid_result.cv_results_['std_test_score']\n",
    "params = grid_result.cv_results_['params']\n",
    "for mean, stdev, param in zip(means, stds, params):\n",
    "    print(\"%f (%f) with: %r\" % (mean, stdev, param))"
   ]
  },
  {
   "cell_type": "markdown",
   "metadata": {
    "colab_type": "text",
    "id": "1PTaNkISOf6E"
   },
   "source": [
    "Luego de probar las combinaciones usando *GridSearchCV*, tenemos que la configuración de parámetros que tiene un mejor desempeño es la siguiente:"
   ]
  },
  {
   "cell_type": "code",
   "execution_count": null,
   "metadata": {
    "colab": {
     "autoexec": {
      "startup": false,
      "wait_interval": 0
     },
     "base_uri": "https://localhost:8080/",
     "height": 34
    },
    "colab_type": "code",
    "executionInfo": {
     "elapsed": 368,
     "status": "ok",
     "timestamp": 1531090625063,
     "user": {
      "displayName": "Saby Espinel",
      "photoUrl": "//lh5.googleusercontent.com/-rmPzhb33xSI/AAAAAAAAAAI/AAAAAAAAAFM/yMVi9A4Job8/s50-c-k-no/photo.jpg",
      "userId": "104445608280165984506"
     },
     "user_tz": 300
    },
    "id": "FOnXTlbHFkJv",
    "outputId": "01f26c5e-5804-4cb9-fc5a-becfd8add9ed"
   },
   "outputs": [
    {
     "name": "stdout",
     "output_type": "stream",
     "text": [
      "Mejor: 0.704743 using {'activation': 'selu', 'drop': 0.2, 'kernel': 'lecun_normal', 'optimizer': 'Adagrad'}\n"
     ]
    }
   ],
   "source": [
    "print(\"Mejor: %f using %s\" % (grid_result.best_score_, grid_result.best_params_))"
   ]
  },
  {
   "cell_type": "markdown",
   "metadata": {
    "colab_type": "text",
    "id": "v7eeMdR2MvLP"
   },
   "source": [
    " **Conclusion**: De acuerdo a los paramatros evaluados tenemos un accuracy de **0.704**. <br> El parametro **selu** (Scaled exponential linear units) es una funcion que mantiene la activacion de la red entre media cero y varianza 1. Algunos estudios han observado como esta funcion ha permitido una convergencia mucho mas rapida con optimizadores como adam.  <br>\n",
    "Con el caso del optimizador, nuevamente aparece **Adagrad** que los pesos se adapten dependiendo de la frecuencia de actualizacion.  <br>\n",
    " \n",
    "El regularizador **Dropout** de 0.2 corresponde a que exista una probabilidad del 20% para cada neurona de no ser empleada en el calculo. Que sea tan bajo significa que las layers requieren de sufcientes neuronas para procesar la informacion. Adicional, dropout cumple una funcion de regularizador al eliminar \"neuronas\", que puede verse como eliminar variables.\n",
    " \n",
    "Como era de esperar, los valores de iniciacion (**lecun_normal**) de los pesos (w) deben ser aleatorios para evitar que tengan la misma tendencia en el proceso de aprendizaje."
   ]
  },
  {
   "cell_type": "markdown",
   "metadata": {
    "colab_type": "text",
    "id": "6W5Ggjy9AZNX"
   },
   "source": [
    "## Una prueba mas con GridSearchCV\n",
    "Debido a que no se satisfizo un mejor modelo de acuerdo con los paremetros establecidos. Se procedio a probar unos nuevos."
   ]
  },
  {
   "cell_type": "code",
   "execution_count": 10,
   "metadata": {
    "colab": {
     "autoexec": {
      "startup": false,
      "wait_interval": 0
     },
     "base_uri": "https://localhost:8080/",
     "height": 37
    },
    "colab_type": "code",
    "executionInfo": {
     "elapsed": 275,
     "status": "ok",
     "timestamp": 1531176615774,
     "user": {
      "displayName": "Diego Armando Salazar Barreto",
      "photoUrl": "https://lh3.googleusercontent.com/a/default-user=s128",
      "userId": "110062887053583561343"
     },
     "user_tz": 300
    },
    "id": "KV9TlFJZPRkV",
    "outputId": "9c40d0c5-a1be-46b0-8cae-e2b49156d321"
   },
   "outputs": [],
   "source": [
    "# Otros parametros definidos para GridSearchCV\n",
    "parametros = {\n",
    "    \"activation\": [\"relu\" ,\"tanh\", \"sigmoid\"],\n",
    "    \"optimizer\": [\"Adadelta\", \"Adam\", \"Adamax\"], \n",
    "    \"drop\": [0.2,0.4,0.6],\n",
    "    \"kernel\": [\"he_normal\", \"glorot_uniform\", \"glorot_normal\"]\n",
    "    #\"neurons\": [5,10,50,100]\n",
    "}\n",
    "\n",
    "# Grilla a evaluar el modelo\n",
    "grid = GridSearchCV(estimator=model, param_grid=parametros)"
   ]
  },
  {
   "cell_type": "code",
   "execution_count": 12,
   "metadata": {
    "colab": {
     "autoexec": {
      "startup": false,
      "wait_interval": 0
     },
     "base_uri": "https://localhost:8080/",
     "height": 37
    },
    "colab_type": "code",
    "executionInfo": {
     "elapsed": 3040897,
     "status": "ok",
     "timestamp": 1531179657224,
     "user": {
      "displayName": "Diego Armando Salazar Barreto",
      "photoUrl": "https://lh3.googleusercontent.com/a/default-user=s128",
      "userId": "110062887053583561343"
     },
     "user_tz": 300
    },
    "id": "0OYEHKJ-RYeq",
    "outputId": "8b5fca37-cd72-417a-e2b3-62bb5fa5e1fa"
   },
   "outputs": [],
   "source": [
    "# Evaluacion de todos los modelos posibles\n",
    "grid_result = grid.fit(x_train, y_train)"
   ]
  },
  {
   "cell_type": "code",
   "execution_count": 13,
   "metadata": {
    "colab": {
     "autoexec": {
      "startup": false,
      "wait_interval": 0
     },
     "base_uri": "https://localhost:8080/",
     "height": 139
    },
    "colab_type": "code",
    "executionInfo": {
     "elapsed": 285,
     "status": "ok",
     "timestamp": 1531179658840,
     "user": {
      "displayName": "Diego Armando Salazar Barreto",
      "photoUrl": "https://lh3.googleusercontent.com/a/default-user=s128",
      "userId": "110062887053583561343"
     },
     "user_tz": 300
    },
    "id": "XDvPpiSfRjOP",
    "outputId": "6ce98f36-281a-4192-f348-5edc7e4a3f3c"
   },
   "outputs": [
    {
     "data": {
      "text/plain": [
       "GridSearchCV(cv=None, error_score='raise',\n",
       "       estimator=<keras.wrappers.scikit_learn.KerasClassifier object at 0x7f2e2146b7b8>,\n",
       "       fit_params=None, iid=True, n_jobs=1,\n",
       "       param_grid={'activation': ['relu', 'tanh', 'sigmoid'], 'optimizer': ['Adadelta', 'Adam', 'Adamax'], 'drop': [0.2, 0.4, 0.6], 'kernel': ['he_normal', 'glorot_uniform', 'glorot_normal']},\n",
       "       pre_dispatch='2*n_jobs', refit=True, return_train_score='warn',\n",
       "       scoring=None, verbose=0)"
      ]
     },
     "execution_count": 13,
     "metadata": {
      "tags": []
     },
     "output_type": "execute_result"
    }
   ],
   "source": [
    "# Grilla obtenida por los paramtros establecidos\n",
    "grid_result"
   ]
  },
  {
   "cell_type": "code",
   "execution_count": 14,
   "metadata": {
    "colab": {
     "autoexec": {
      "startup": false,
      "wait_interval": 0
     },
     "base_uri": "https://localhost:8080/",
     "height": 34
    },
    "colab_type": "code",
    "executionInfo": {
     "elapsed": 258,
     "status": "ok",
     "timestamp": 1531179659795,
     "user": {
      "displayName": "Diego Armando Salazar Barreto",
      "photoUrl": "https://lh3.googleusercontent.com/a/default-user=s128",
      "userId": "110062887053583561343"
     },
     "user_tz": 300
    },
    "id": "YQ0pwSrDRj9Z",
    "outputId": "e56dfbc2-0376-4684-9fdb-0ea5d5f6528c"
   },
   "outputs": [
    {
     "name": "stdout",
     "output_type": "stream",
     "text": [
      "Mejor: 0.776776 using {'activation': 'tanh', 'drop': 0.2, 'kernel': 'glorot_normal', 'optimizer': 'Adam'}\n"
     ]
    }
   ],
   "source": [
    "print(\"Mejor: %f using %s\" % (grid_result.best_score_, grid_result.best_params_))"
   ]
  },
  {
   "cell_type": "markdown",
   "metadata": {
    "colab_type": "text",
    "id": "7hjZDE46AXFk"
   },
   "source": [
    "**Conclusion**: Se encontraron que los parametros: funcion de activacion **tanh**, y el optimizador **Adam**, tienen un mejor rendimiento para el modelo. De cierta manera las funciones *elu* y *selu* que tienen porciones por debajo de cero, se decir, negativas daban mejores resultados, esto quiere decir que la tanh (con rango entre [-1,1]) esta mas marcado al valor negativo en -1, lo que podria dar un mejor rendimiento al clasificar. Este modelo tuvo un accuracy de **0.78**."
   ]
  }
 ],
 "metadata": {
  "accelerator": "GPU",
  "colab": {
   "collapsed_sections": [],
   "default_view": {},
   "name": "ReutersNewsFinal.ipynb",
   "provenance": [
    {
     "file_id": "1U6rCd73-QaXvOoucRK3qwSO_9TkI5-Pv",
     "timestamp": 1531149718672
    },
    {
     "file_id": "1P9Sm8YYx_Ztm3eMuy6uuXUtF_ozdmtC0",
     "timestamp": 1530899967667
    }
   ],
   "version": "0.3.2",
   "views": {}
  },
  "kernelspec": {
   "display_name": "Python 3",
   "language": "python",
   "name": "python3"
  },
  "language_info": {
   "codemirror_mode": {
    "name": "ipython",
    "version": 3
   },
   "file_extension": ".py",
   "mimetype": "text/x-python",
   "name": "python",
   "nbconvert_exporter": "python",
   "pygments_lexer": "ipython3",
   "version": "3.6.4"
  }
 },
 "nbformat": 4,
 "nbformat_minor": 2
}
